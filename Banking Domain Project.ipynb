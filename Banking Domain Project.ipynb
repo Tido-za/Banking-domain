{
 "cells": [
  {
   "cell_type": "markdown",
   "metadata": {},
   "source": [
    "#                                           Banking Domain Project\n",
    "\n",
    "Problem Statement:\n",
    "\n",
    "(Use parameterized Constructors in all classes to initialize default values)\n",
    "\n",
    "Create a Bank class with the following attributes:\n",
    "\n",
    ">.IFSC_Code\n",
    ">.bankname\n",
    ">.branchname\n",
    ">.loc\n",
    "\n",
    "Create a Customer class with the following attributes:\n",
    "\n",
    ">.CustomerID\n",
    ">.custname\n",
    ">.address\n",
    ">.contactdetails\n",
    "\n",
    "Create an Account class that inherits from Bank class with the following attributes (Use Super () to pass value to the base class).\n",
    "\n",
    ">.AccountID\n",
    ">.Cust Object of Customer\n",
    ">.balance\n",
    "\n",
    "Add following methods to get account information, withdraw, and deposit.\n",
    "\n",
    ">.getAccountInfo()\n",
    ">.deposit(2000,'true')\n",
    ">.widthraw(500)\n",
    ">.getBalance()\n",
    "\n",
    "Create a SavigsAccount class that inherits from Account with the following attributes (Use Super () to pass valued to the base class).\n",
    "\n",
    ">.SMinBalance\n",
    "\n",
    "Add following methods to get account information, withdraw and deposit\n",
    "\n",
    ">.getSavingAccountInfo()\n",
    ">.deposit(2000,'true')\n",
    ">.widthraw(500)\n",
    ">.getBalance()\n",
    "\n",
    "Validate MinBalance before allowing withdrawals \n",
    "\n",
    "Create a class that runs the program and accepts input from the end user to create respective class objects and print details. Add a method to perform deposit and withdrawal transaction based on the end uses input.\n"
   ]
  },
  {
   "cell_type": "code",
   "execution_count": 2,
   "metadata": {},
   "outputs": [],
   "source": [
    "class Bank(object):\n",
    "    \n",
    "    IFSCCodeGenerator=1234\n",
    "    def __init__(self,bankname,branchname,loc):                          \n",
    "        self.IFSC_Code=Bank.IFSCCodeGenerator+10 \n",
    "        self.Name=bankname\n",
    "        self.BranchName=branchname\n",
    "        self.Loc=loc\n",
    "        print (\"Welcome To %s\"%(self.Name))\n",
    "    def getBankInfo(self):\n",
    "        print ('*******************Bank Info****************')\n",
    "        print (\"IFSC Code is %d ,Bank Name is %s ,BranchName is %s and LOC is %s\"%(self.IFSC_Code,self.Name,self.BranchName,self.Loc))"
   ]
  },
  {
   "cell_type": "code",
   "execution_count": 3,
   "metadata": {},
   "outputs": [
    {
     "name": "stdout",
     "output_type": "stream",
     "text": [
      "Welcome To My Bank\n",
      "*******************Bank Info****************\n",
      "IFSC Code is 1244 ,Bank Name is My Bank ,BranchName is Thando Banks and LOC is East London\n"
     ]
    }
   ],
   "source": [
    "B1=Bank(\"My Bank\",\"Thando Banks\",\"East London\")\n",
    "B1.getBankInfo()"
   ]
  },
  {
   "cell_type": "code",
   "execution_count": 4,
   "metadata": {},
   "outputs": [],
   "source": [
    "class Customer():\n",
    "    CustomerIDGenerator=1001\n",
    "    def __init__(self,custname,address,contactdetails):                 \n",
    "        self.CustomerID=Customer.CustomerIDGenerator+1\n",
    "        self.CustName=custname\n",
    "        self.Address=address\n",
    "        self.ContactDetails=contactdetails\n",
    "    def getCustomerInfo(self):                        \n",
    "        print ('**************Customer Info****************')\n",
    "        print (\"Customer ID Code is %d ,Cust  Name is %s ,Address is %s and Contact Details is %s\"%(self.CustomerID,self.CustName,self.Address,self.ContactDetails))"
   ]
  },
  {
   "cell_type": "code",
   "execution_count": 5,
   "metadata": {},
   "outputs": [
    {
     "name": "stdout",
     "output_type": "stream",
     "text": [
      "**************Customer Info****************\n",
      "Customer ID Code is 1002 ,Cust  Name is Thando ,Address is Mdantsane and Contact Details is thando@gmail.com\n"
     ]
    }
   ],
   "source": [
    "C1=Customer(\"Thando\",\"Mdantsane\",\"thando@gmail.com\")\n",
    "C1.getCustomerInfo() "
   ]
  },
  {
   "cell_type": "code",
   "execution_count": 6,
   "metadata": {},
   "outputs": [],
   "source": [
    "class Account(Bank):\n",
    "    AccountIDGenerator=2001\n",
    "    def __init__(self,bankname,branchname,loc,cust,balance):                 \n",
    "        super(Account,self).__init__(bankname,branchname,loc)       \n",
    "        self.AccountID=Account.AccountIDGenerator+1\n",
    "        self.Cust=cust\n",
    "        self.Balance=balance\n",
    "    def getAccountInfo(self):                        \n",
    "        print (\"*************** Cust Info****************8888\")\n",
    "        print (\"Customer ID Code is %d ,Cust  Name is %s ,Address is %s and Contact Details is %s\"%(self.Cust.CustomerID,self.Cust.CustName,self.Cust.Address,self.Cust.ContactDetails))\n",
    "        print (\"*************** Acount Info****************8888\")\n",
    "        print (\"Account ID Code is %d ,Balance is %d\"%(self.AccountID,self.Balance))\n",
    "    def widthraw(self,amount):\n",
    "        temp=self.Balance-amount\n",
    "        if temp>0:\n",
    "            self.Balance=self.Balance-amount\n",
    "        else:\n",
    "            print( \"Insufficient Balance\")\n",
    "    def deposit(self,amount,PANCard):\n",
    "        if PANCard=='true':\n",
    "            self.Balance=self.Balance+amount\n",
    "        else:\n",
    "            print (\"Plese Provide a PAN Card\")\n",
    "    def getBalance(self):\n",
    "        return self.Balance"
   ]
  },
  {
   "cell_type": "code",
   "execution_count": 7,
   "metadata": {},
   "outputs": [
    {
     "name": "stdout",
     "output_type": "stream",
     "text": [
      "Welcome To My Bank\n",
      "*******************Bank Info****************\n",
      "IFSC Code is 1244 ,Bank Name is My Bank ,BranchName is Thando Banks and LOC is East London\n",
      "Welcome To My Bank\n",
      "*************** Cust Info****************8888\n",
      "Customer ID Code is 1002 ,Cust  Name is Thando ,Address is Mdantsane and Contact Details is thando@gmail.com\n",
      "*************** Acount Info****************8888\n",
      "Account ID Code is 2002 ,Balance is 30000\n",
      "****************Validation Check****************\n"
     ]
    }
   ],
   "source": [
    "B1=Bank(\"My Bank\",\"Thando Banks\",\"East London\")\n",
    "B1.getBankInfo()  \n",
    "C1=Customer(\"Thando\",\"Mdantsane\",\"thando@gmail.com\")\n",
    "A1=Account(\"My Bank\",\"Thando Banks\",\"East London\",C1,30000)\n",
    "A1.getAccountInfo()\n",
    "A1.deposit(2000,'true')\n",
    "A1.widthraw(500)\n",
    "A1.getBalance()\n",
    "\n",
    "print(\"****************Validation Check****************\")\n"
   ]
  },
  {
   "cell_type": "code",
   "execution_count": 8,
   "metadata": {},
   "outputs": [
    {
     "name": "stdout",
     "output_type": "stream",
     "text": [
      "Insufficient Balance\n",
      "Plese Provide a PAN Card\n"
     ]
    }
   ],
   "source": [
    "A1.widthraw(40000)\n",
    "A1.getBalance()\n",
    "\n",
    "#Validation check pan card provided\n",
    "A1.deposit(2000,'false') "
   ]
  },
  {
   "cell_type": "code",
   "execution_count": 9,
   "metadata": {},
   "outputs": [],
   "source": [
    "class SavingsAccount(Account):\n",
    "    def __init__(self,bankname,branchname,loc,cust,balance,sminbal):                 \n",
    "        super(SavingsAccount,self).__init__(bankname,branchname,loc,cust,balance)       \n",
    "        self.SMinBalance=sminbal\n",
    "    def getSavingsAccountInfo(self):                        \n",
    "        print (\"*************** Saving Account Info*******************\")\n",
    "        print (\"SMinbal  %d\"%(self.SMinBalance))\n",
    "    def widthraw(self,amount):\n",
    "        temp=self.Balance-amount\n",
    "        if temp>self.SMinBalance:\n",
    "            self.Balance=self.Balance-amount\n",
    "        else:\n",
    "            print( \"Insufficient Minimun Balance\")\n",
    "    def getSavingAccountInfo(self): \n",
    "        super(SavingsAccount,self).getAccountInfo()\n",
    "        print( \"SMinBalance is %d\"%self.SMinBalance)\n",
    "    def getSMinBalance(self):\n",
    "        return self.SMinBalance"
   ]
  },
  {
   "cell_type": "code",
   "execution_count": 10,
   "metadata": {},
   "outputs": [
    {
     "name": "stdout",
     "output_type": "stream",
     "text": [
      "Welcome To My Bank\n",
      "*******************Bank Info****************\n",
      "IFSC Code is 1244 ,Bank Name is My Bank ,BranchName is Thando Banks and LOC is East London\n",
      "Welcome To My Bank\n",
      "*************** Cust Info****************8888\n",
      "Customer ID Code is 1002 ,Cust  Name is Thando ,Address is Mdantsane and Contact Details is thando@gmail.com\n",
      "*************** Acount Info****************8888\n",
      "Account ID Code is 2002 ,Balance is 5000\n",
      "SMinBalance is 5000\n",
      "****************Validation Check****************\n"
     ]
    }
   ],
   "source": [
    "B1=Bank(\"My Bank\",\"Thando Banks\",\"East London\")\n",
    "B1.getBankInfo()  \n",
    "C1=Customer(\"Thando\",\"Mdantsane\",\"thando@gmail.com\")\n",
    "S1=SavingsAccount(\"My Bank\",\"Thando Banks\",\"East London\",C1,5000,5000)\n",
    "S1.getSavingAccountInfo()\n",
    "S1.deposit(2000,'true')\n",
    "S1.widthraw(500)\n",
    "S1.getBalance()\n",
    "S1.getSMinBalance\n",
    "\n",
    "print(\"****************Validation Check****************\")\n"
   ]
  },
  {
   "cell_type": "code",
   "execution_count": 11,
   "metadata": {},
   "outputs": [
    {
     "name": "stdout",
     "output_type": "stream",
     "text": [
      "Insufficient Minimun Balance\n"
     ]
    }
   ],
   "source": [
    "#Validation check smin balance\n",
    "S1.widthraw(40000)"
   ]
  },
  {
   "cell_type": "code",
   "execution_count": 12,
   "metadata": {},
   "outputs": [
    {
     "data": {
      "text/plain": [
       "6500"
      ]
     },
     "execution_count": 12,
     "metadata": {},
     "output_type": "execute_result"
    }
   ],
   "source": [
    "S1.getBalance()"
   ]
  },
  {
   "cell_type": "code",
   "execution_count": 13,
   "metadata": {},
   "outputs": [
    {
     "data": {
      "text/plain": [
       "5000"
      ]
     },
     "execution_count": 13,
     "metadata": {},
     "output_type": "execute_result"
    }
   ],
   "source": [
    "S1.getSMinBalance()"
   ]
  },
  {
   "cell_type": "code",
   "execution_count": 14,
   "metadata": {},
   "outputs": [],
   "source": [
    "def RunProgram():\n",
    "    B1=Bank(\"My Bank\",\"Thando Banks\",\"East London\")\n",
    "    B1.getBankInfo()  \n",
    "    C1=Customer(\"Thando\",\"Mdantsane\",\"thando@gmail.com\")\n",
    "    print (\"***************Bank  Created***************\")\n",
    "    accounttype=input (\"enter account type to create (Savings=1/Cheque=2)\")\n",
    "    if accounttype==1:\n",
    "        S1=SavingsAccount(\"My Bank\",\"Thando Banks\",\"East London\",C1,50000,5000)\n",
    "        S1.getSavingAccountInfo()\n",
    "    else:\n",
    "        print( \"Invalid Input!\")\n",
    "    trans=input (\"enter transaction type (Deposit =1/Widthraw =2)\")\n",
    "    amount=input (\"enter the amount\")\n",
    "    if trans==1:\n",
    "        S1.deposit(amount,'true')\n",
    "    elif trans==2:\n",
    "        S1.widthraw()\n",
    "    else:\n",
    "        print (\"Invalid Input\")\n"
   ]
  },
  {
   "cell_type": "code",
   "execution_count": null,
   "metadata": {
    "scrolled": true
   },
   "outputs": [
    {
     "name": "stdout",
     "output_type": "stream",
     "text": [
      "Welcome To My Bank\n",
      "*******************Bank Info****************\n",
      "IFSC Code is 1244 ,Bank Name is My Bank ,BranchName is Thando Banks and LOC is East London\n",
      "***************Bank  Created***************\n"
     ]
    }
   ],
   "source": [
    "RunProgram()"
   ]
  },
  {
   "cell_type": "code",
   "execution_count": null,
   "metadata": {},
   "outputs": [],
   "source": []
  }
 ],
 "metadata": {
  "kernelspec": {
   "display_name": "Python 3",
   "language": "python",
   "name": "python3"
  },
  "language_info": {
   "codemirror_mode": {
    "name": "ipython",
    "version": 3
   },
   "file_extension": ".py",
   "mimetype": "text/x-python",
   "name": "python",
   "nbconvert_exporter": "python",
   "pygments_lexer": "ipython3",
   "version": "3.8.3"
  }
 },
 "nbformat": 4,
 "nbformat_minor": 4
}
